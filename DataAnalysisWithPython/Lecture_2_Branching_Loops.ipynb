{
 "cells": [
  {
   "cell_type": "markdown",
   "id": "44ff11c4",
   "metadata": {},
   "source": [
    "#Branching using Conditional Statements and Loops in Python\n",
    "\n",
    "  **Covering the following topics:**\n",
    "  * Branching with `if`, `else` and `elif`.\n",
    "  * Nested conditions and `if` expressions.\n",
    "  * Iteration with `while` loops.\n",
    "  * Interation over containers with `for` loops.\n",
    "  * Nested loops, `break` and `continue` statements."
   ]
  },
  {
   "cell_type": "markdown",
   "id": "ebd5cffa",
   "metadata": {},
   "source": [
    "## Branching with `if`, `else` and `elif`\n",
    "\n",
    "One of the most powerful features of programming languages is *branching*: the ability to make decisions and execute a different set of statements based on whether one or more conditions are true.\n",
    "\n",
    "### The `if` statement\n",
    "\n",
    "In Python, branching is implemented using the `if` statement, which is written as follows:\n",
    "\n",
    "```\n",
    "if condition:\n",
    "    statement1\n",
    "    statement2\n",
    "```\n",
    "\n",
    "The `condition` can be a value, variable or expression. If the condition evaluates to `True`, then the statements within the *`if` block* are executed. Notice the four spaces before `statement1`, `statement2`, etc. The spaces inform Python that these statements are associated with the `if` statement above. This technique of structuring code by adding spaces is called *indentation*.\n",
    "\n",
    "> **Indentation**: Python relies heavily on *indentation* (white space before a statement) to define code structure. This makes Python code easy to read and understand. You can run into problems if you don't use indentation properly. Indent your code by placing the cursor at the start of the line and pressing the `Tab` key once to add 4 spaces. Pressing `Tab` again will indent the code further by 4 more spaces, and press `Shift+Tab` will reduce the indentation by 4 spaces. \n",
    "\n",
    "\n",
    "For example, let's write some code to check and print a message if a given number is even."
   ]
  },
  {
   "cell_type": "code",
   "execution_count": 1,
   "id": "2328f051",
   "metadata": {},
   "outputs": [
    {
     "name": "stdout",
     "output_type": "stream",
     "text": [
      "We are inside an if block\n",
      "The given number 34 is even.\n"
     ]
    }
   ],
   "source": [
    "a_number = 34\n",
    "\n",
    "if a_number % 2 == 0:\n",
    "  print(\"We are inside an if block\")\n",
    "  print('The given number {} is even.' .format(a_number))"
   ]
  },
  {
   "cell_type": "code",
   "execution_count": 2,
   "id": "4e47222e",
   "metadata": {},
   "outputs": [],
   "source": [
    "another_number = 33\n",
    "if another_number % 2 == 0:\n",
    "  print('The given number {} is even.' .format(another_number)) #Nothing is printed because it is a true statement."
   ]
  },
  {
   "cell_type": "markdown",
   "id": "eb311371",
   "metadata": {},
   "source": [
    "As expected, since the condition `another_number % 2 == 0` evaluates to `False`, no message is printed. \n",
    "\n",
    "### The `else` statement\n",
    "\n",
    "We may want to print a different message if the number is not even in the above example. This can be done by adding the `else` statement. It is written as follows:\n",
    "\n",
    "```\n",
    "if condition:\n",
    "    statement1\n",
    "    statement2\n",
    "else:\n",
    "    statement4\n",
    "    statement5\n",
    "\n",
    "```\n",
    "\n",
    "If `condition` evaluates to `True`, the statements in the `if` block are executed. If it evaluates to `False`, the statements in the `else` block are executed."
   ]
  },
  {
   "cell_type": "code",
   "execution_count": 3,
   "id": "f13b30ad",
   "metadata": {},
   "outputs": [
    {
     "name": "stdout",
     "output_type": "stream",
     "text": [
      "The given number 34 is even.\n"
     ]
    }
   ],
   "source": [
    "if a_number % 2 == 0:\n",
    "  print('The given number {} is even.' .format(a_number))\n",
    "else:\n",
    "  print('The given number {} is odd.' .format(a_number))\n"
   ]
  },
  {
   "cell_type": "code",
   "execution_count": 4,
   "id": "9077ff59",
   "metadata": {},
   "outputs": [
    {
     "name": "stdout",
     "output_type": "stream",
     "text": [
      "The given number 33 is odd.\n"
     ]
    }
   ],
   "source": [
    "if another_number % 2 == 0:\n",
    "  print('The given number {} is even.' .format(another_number))\n",
    "else:\n",
    "  print('The given number {} is odd.' .format(another_number))"
   ]
  },
  {
   "cell_type": "markdown",
   "id": "d772ae12",
   "metadata": {},
   "source": [
    "Here's another example, which uses the `in` operator to check membership within a tuple."
   ]
  },
  {
   "cell_type": "code",
   "execution_count": 5,
   "id": "f1b64a52",
   "metadata": {},
   "outputs": [],
   "source": [
    "the_3_musketeers = ('Athos', 'Porthos', 'Aramis')\n",
    "a_candidate = \"D'Artagnan\""
   ]
  },
  {
   "cell_type": "code",
   "execution_count": 6,
   "id": "aff53c35",
   "metadata": {},
   "outputs": [
    {
     "name": "stdout",
     "output_type": "stream",
     "text": [
      "D'Artagnan is not in the 3 musketeers.\n"
     ]
    }
   ],
   "source": [
    "if a_candidate in the_3_musketeers:\n",
    "  print('{} is in the 3 musketeers.' .format(a_candidate))\n",
    "else:\n",
    "  print('{} is not in the 3 musketeers.' .format(a_candidate))"
   ]
  },
  {
   "cell_type": "markdown",
   "id": "17b37f9f",
   "metadata": {},
   "source": [
    "### The `elif` statement\n",
    "\n",
    "Python also provides an `elif` statement (short for \"else if\") to chain a series of conditional blocks. The conditions are evaluated one by one. For the first condition that evaluates to `True`, the block of statements below it is executed. The remaining conditions and statements are not evaluated. So, in an `if`, `elif`, `elif`... chain, at most one block of statements is executed, the one corresponding to the first condition that evaluates to `True`. "
   ]
  },
  {
   "cell_type": "code",
   "execution_count": 7,
   "id": "b1253a98",
   "metadata": {},
   "outputs": [],
   "source": [
    "import datetime"
   ]
  },
  {
   "cell_type": "code",
   "execution_count": 8,
   "id": "9bfca54c",
   "metadata": {},
   "outputs": [
    {
     "data": {
      "text/plain": [
       "'Friday'"
      ]
     },
     "execution_count": 8,
     "metadata": {},
     "output_type": "execute_result"
    }
   ],
   "source": [
    "x = datetime.datetime.now()\n",
    "\n",
    "today = x.strftime(\"%A\")\n",
    "today"
   ]
  },
  {
   "cell_type": "code",
   "execution_count": 9,
   "id": "d1b5e0bc",
   "metadata": {},
   "outputs": [
    {
     "name": "stdout",
     "output_type": "stream",
     "text": [
      "Today is the day of Frigga, the goddess of beauty.\n"
     ]
    }
   ],
   "source": [
    "if today == 'Sunday':\n",
    "    print(\"Today is the day of the sun.\")\n",
    "elif today == 'Monday':\n",
    "    print(\"Today is the day of the moon.\")\n",
    "elif today == 'Tuesday':\n",
    "    print(\"Today is the day of Tyr, the god of war.\")\n",
    "elif today == 'Wednesday':\n",
    "    print(\"Today is the day of Odin, the supreme diety.\")\n",
    "elif today == 'Thursday':\n",
    "    print(\"Today is the day of Thor, the god of thunder.\")\n",
    "elif today == 'Friday':\n",
    "    print(\"Today is the day of Frigga, the goddess of beauty.\")\n",
    "elif today == 'Saturday':\n",
    "    print(\"Today is the day of Saturn, the god of fun and feasting.\")"
   ]
  },
  {
   "cell_type": "code",
   "execution_count": 10,
   "id": "0e36aaa5",
   "metadata": {},
   "outputs": [
    {
     "name": "stdout",
     "output_type": "stream",
     "text": [
      "15 is divisible by 3\n"
     ]
    }
   ],
   "source": [
    "number = 15\n",
    "if number % 2 == 0:\n",
    "    print('{} is divisible by 2'.format(number))\n",
    "elif number % 3 == 0:\n",
    "    print('{} is divisible by 3'.format(number))\n",
    "elif number % 5 == 0:\n",
    "    print('{} is divisible by 5'.format(number))\n",
    "elif number % 7 == 0:\n",
    "    print('{} is divisible by 7'.format(number))"
   ]
  },
  {
   "cell_type": "markdown",
   "id": "59eac05b",
   "metadata": {},
   "source": [
    "Note that the message `15 is divisible by 5` is not printed because the condition `a_number % 5 == 0` isn't evaluated, since the previous condition `a_number % 3 == 0` evaluates to `True`. This is the key difference between using a chain of `if`, `elif`, `elif`... statements vs. a chain of `if` statements, where each condition is evaluated independently."
   ]
  },
  {
   "cell_type": "code",
   "execution_count": 11,
   "id": "d8251bb0",
   "metadata": {},
   "outputs": [
    {
     "name": "stdout",
     "output_type": "stream",
     "text": [
      "15 is divisible by 3\n",
      "15 is divisible by 5\n"
     ]
    }
   ],
   "source": [
    "if number % 2 == 0:\n",
    "    print('{} is divisible by 2'.format(number))\n",
    "if number % 3 == 0:\n",
    "    print('{} is divisible by 3'.format(number))\n",
    "if number % 5 == 0:\n",
    "    print('{} is divisible by 5'.format(number))\n",
    "if number % 7 == 0:\n",
    "    print('{} is divisible by 7'.format(number))"
   ]
  },
  {
   "cell_type": "markdown",
   "id": "081a3323",
   "metadata": {},
   "source": [
    "### Using `if`, `elif`, and `else` together\n",
    "\n",
    "You can also include an `else` statement at the end of a chain of `if`, `elif`... statements. This code within the `else` block is evaluated when none of the conditions hold true."
   ]
  },
  {
   "cell_type": "code",
   "execution_count": 12,
   "id": "19883fa0",
   "metadata": {},
   "outputs": [
    {
     "name": "stdout",
     "output_type": "stream",
     "text": [
      "All checks failed!\n",
      "49 is not divisible by 2, 3 or 5\n"
     ]
    }
   ],
   "source": [
    "a_number = 49\n",
    "if a_number % 2 == 0:\n",
    "    print('{} is divisible by 2'.format(a_number))\n",
    "elif a_number % 3 == 0:\n",
    "    print('{} is divisible by 3'.format(a_number))\n",
    "elif a_number % 5 == 0:\n",
    "    print('{} is divisible by 5'.format(a_number))\n",
    "else:\n",
    "    print('All checks failed!')\n",
    "    print('{} is not divisible by 2, 3 or 5'.format(a_number))"
   ]
  },
  {
   "cell_type": "markdown",
   "id": "37b7c003",
   "metadata": {},
   "source": [
    "Conditions can also be combined using the logical operators `and`, `or` and `not`. Logical operators are explained in detail in the [first tutorial](https://jovian.ml/aakashns/first-steps-with-python/v/4#C49)."
   ]
  },
  {
   "cell_type": "code",
   "execution_count": 13,
   "id": "61725fc1",
   "metadata": {},
   "outputs": [
    {
     "name": "stdout",
     "output_type": "stream",
     "text": [
      "12 is divisible by 2 and 3.\n",
      "12 is not divisible by 5.\n"
     ]
    }
   ],
   "source": [
    "a_number = 12\n",
    "if a_number % 2 == 0 and a_number % 3 == 0:\n",
    "  print('{} is divisible by 2 and 3.' .format(a_number))\n",
    "if not a_number % 5 == 0:\n",
    "  print('{} is not divisible by 5.' .format(a_number))"
   ]
  },
  {
   "cell_type": "markdown",
   "id": "be79e65c",
   "metadata": {},
   "source": [
    "### Non-Boolean Conditions\n",
    "\n",
    "Note that conditions do not necessarily have to be booleans. In fact, a condition can be any value. The value is converted into a boolean automatically using the `bool` operator. This means that falsy values like `0`, `''`, `{}`, `[]`, etc. evaluate to `False` and all other values evaluate to `True`."
   ]
  },
  {
   "cell_type": "code",
   "execution_count": 14,
   "id": "f534135f",
   "metadata": {},
   "outputs": [
    {
     "name": "stdout",
     "output_type": "stream",
     "text": [
      "The condition evaluted to False\n"
     ]
    }
   ],
   "source": [
    "if '':\n",
    "    print('The condition evaluted to True')\n",
    "else:\n",
    "    print('The condition evaluted to False')"
   ]
  },
  {
   "cell_type": "code",
   "execution_count": 15,
   "id": "5c909cd1",
   "metadata": {},
   "outputs": [
    {
     "name": "stdout",
     "output_type": "stream",
     "text": [
      "The condition evaluted to True\n"
     ]
    }
   ],
   "source": [
    "if 'Hello':\n",
    "    print('The condition evaluted to True')\n",
    "else:\n",
    "    print('The condition evaluted to False')"
   ]
  },
  {
   "cell_type": "code",
   "execution_count": 16,
   "id": "78827b63",
   "metadata": {},
   "outputs": [
    {
     "name": "stdout",
     "output_type": "stream",
     "text": [
      "The condition evaluted to True\n"
     ]
    }
   ],
   "source": [
    "if { 'a': 34 }:\n",
    "    print('The condition evaluted to True')\n",
    "else:\n",
    "    print('The condition evaluted to False')"
   ]
  },
  {
   "cell_type": "code",
   "execution_count": 17,
   "id": "edb6fceb",
   "metadata": {},
   "outputs": [
    {
     "name": "stdout",
     "output_type": "stream",
     "text": [
      "The condition evaluted to False\n"
     ]
    }
   ],
   "source": [
    "if None:\n",
    "    print('The condition evaluted to True')\n",
    "else:\n",
    "    print('The condition evaluted to False')"
   ]
  },
  {
   "cell_type": "markdown",
   "id": "997db1f8",
   "metadata": {},
   "source": [
    "### Nested conditional statements\n",
    "\n",
    "The code inside an `if` block can also include an `if` statement inside it. This pattern is called `nesting` and is used to check for another condition after a particular condition holds true."
   ]
  },
  {
   "cell_type": "code",
   "execution_count": 18,
   "id": "e697a368",
   "metadata": {},
   "outputs": [
    {
     "name": "stdout",
     "output_type": "stream",
     "text": [
      "12 is even\n",
      "12 is also divisible by 3\n"
     ]
    }
   ],
   "source": [
    "if a_number % 2 == 0:\n",
    "    print(\"{} is even\".format(a_number))\n",
    "    if a_number % 3 == 0:\n",
    "        print(\"{} is also divisible by 3\".format(a_number))\n",
    "    else:\n",
    "        print(\"{} is not divisibule by 3\".format(a_number))\n",
    "else:\n",
    "    print(\"{} is odd\".format(a_number))\n",
    "    if a_number % 5 == 0:\n",
    "        print(\"{} is also divisible by 5\".format(a_number))\n",
    "    else:\n",
    "        print(\"{} is not divisibule by 5\".format(a_number))"
   ]
  },
  {
   "cell_type": "markdown",
   "id": "486252ea",
   "metadata": {},
   "source": [
    "Notice how the `print` statements are indented by 8 spaces to indicate that they are part of the inner `if`/`else` blocks.\n",
    "\n",
    "> Nested `if`, `else` statements are often confusing to read and prone to human error. It's good to avoid nesting whenever possible, or limit the nesting to 1 or 2 levels."
   ]
  },
  {
   "cell_type": "markdown",
   "id": "b66f1063",
   "metadata": {},
   "source": [
    "### Shorthand `if` conditional expression\n",
    "\n",
    "A frequent use case of the `if` statement involves testing a condition and setting a variable's value based on the condition."
   ]
  },
  {
   "cell_type": "code",
   "execution_count": 19,
   "id": "9b3890ca",
   "metadata": {},
   "outputs": [
    {
     "name": "stdout",
     "output_type": "stream",
     "text": [
      "The number 13 is odd.\n"
     ]
    }
   ],
   "source": [
    "a_number = 13\n",
    "if a_number % 2 == 0:\n",
    "   parity = 'even'\n",
    "else:\n",
    "  parity = 'odd'\n",
    "\n",
    "print('The number {} is {}.' .format(a_number, parity))"
   ]
  },
  {
   "cell_type": "markdown",
   "id": "0489795e",
   "metadata": {},
   "source": [
    "Python provides a shorter syntax, which allows writing such conditions in a single line of code. It is known as a *conditional expression*, sometimes also referred to as a *ternary operator*. It has the following syntax:\n",
    "\n",
    "```\n",
    "x = true_value if condition else false_value\n",
    "```\n",
    "\n",
    "It has the same behavior as the following `if`-`else` block:\n",
    "\n",
    "```\n",
    "if condition:\n",
    "    x = true_value\n",
    "else:\n",
    "    x = false_value\n",
    "```\n",
    "\n",
    "Let's try it out for the example above."
   ]
  },
  {
   "cell_type": "code",
   "execution_count": 20,
   "id": "2c8eefe4",
   "metadata": {},
   "outputs": [
    {
     "name": "stdout",
     "output_type": "stream",
     "text": [
      "The number 13 is odd.\n"
     ]
    }
   ],
   "source": [
    "parity = 'even' if a_number % 2 == 0 else 'odd'\n",
    "print('The number {} is {}.' .format(a_number, parity))"
   ]
  },
  {
   "cell_type": "markdown",
   "id": "52bbbe03",
   "metadata": {},
   "source": [
    "### Statements and Expressions\n",
    "\n",
    "The conditional expression highlights an essential distinction between *statements* and *expressions* in Python. \n",
    "\n",
    "> **Statements**: A statement is an instruction that can be executed. Every line of code we have written so far is a statement e.g. assigning a variable, calling a function, conditional statements using `if`, `else`, and `elif`, loops using `for` and `while` etc.\n",
    "\n",
    "> **Expressions**: An expression is some code that evaluates to a value. Examples include values of different data types, arithmetic expressions, conditions, variables, function calls, conditional expressions, etc. \n",
    "\n",
    "\n",
    "Most expressions can be executed as statements, but not all statements are expressions. For example, the regular `if` statement is not an expression since it does not evaluate to a value. It merely performs some branching in the code. Similarly, loops and function definitions are not expressions (we'll learn more about these in later sections).\n",
    "\n",
    "As a rule of thumb, an expression is anything that can appear on the right side of the assignment operator `=`. You can use this as a test for checking whether something is an expression or not. You'll get a syntax error if you try to assign something that is not an expression."
   ]
  },
  {
   "cell_type": "code",
   "execution_count": 21,
   "id": "a14e9c0b",
   "metadata": {},
   "outputs": [
    {
     "ename": "SyntaxError",
     "evalue": "invalid syntax (Temp/ipykernel_21888/3912443253.py, line 2)",
     "output_type": "error",
     "traceback": [
      "\u001b[1;36m  File \u001b[1;32m\"C:\\Users\\dante\\AppData\\Local\\Temp/ipykernel_21888/3912443253.py\"\u001b[1;36m, line \u001b[1;32m2\u001b[0m\n\u001b[1;33m    result = if a_number % 2 == 0:\u001b[0m\n\u001b[1;37m             ^\u001b[0m\n\u001b[1;31mSyntaxError\u001b[0m\u001b[1;31m:\u001b[0m invalid syntax\n"
     ]
    }
   ],
   "source": [
    "# Incorrect if statement\n",
    "result = if a_number % 2 == 0: \n",
    "    'even'\n",
    "else:\n",
    "    'odd'"
   ]
  },
  {
   "cell_type": "code",
   "execution_count": 22,
   "id": "536d6c4e",
   "metadata": {},
   "outputs": [
    {
     "data": {
      "text/plain": [
       "'odd'"
      ]
     },
     "execution_count": 22,
     "metadata": {},
     "output_type": "execute_result"
    }
   ],
   "source": [
    "# Correct if statement\n",
    "result = 'even' if a_number % 2 == 0 else 'odd'\n",
    "result"
   ]
  },
  {
   "cell_type": "markdown",
   "id": "1e5f6012",
   "metadata": {},
   "source": [
    "### The `pass` statement\n",
    "\n",
    "`if` statements cannot be empty, there must be at least one statement in every `if` and `elif` block. You can use the `pass` statement to do nothing and avoid getting an error."
   ]
  },
  {
   "cell_type": "code",
   "execution_count": 23,
   "id": "ccb2a09e",
   "metadata": {},
   "outputs": [
    {
     "name": "stdout",
     "output_type": "stream",
     "text": [
      "9 is divisible by 3 but not by 2.\n"
     ]
    }
   ],
   "source": [
    "a_number = 9\n",
    "if a_number % 2 == 0:\n",
    "  pass\n",
    "elif a_number % 3 == 0:\n",
    "  print('{} is divisible by 3 but not by 2.' .format(a_number))"
   ]
  },
  {
   "cell_type": "markdown",
   "id": "04adcae8",
   "metadata": {},
   "source": [
    "## Iteration with `while` loops\n",
    "\n",
    "Another powerful feature of programming languages, closely related to branching, is running one or more statements multiple times. This feature is often referred to as *iteration* on *looping*, and there are two ways to do this in Python: using `while` loops and `for` loops. \n",
    "\n",
    "`while` loops have the following syntax:\n",
    "\n",
    "```\n",
    "while condition:\n",
    "    statement(s)\n",
    "```\n",
    "\n",
    "Statements in the code block under `while` are executed repeatedly as long as the `condition` evaluates to `True`. Generally, one of the statements under `while` makes some change to a variable that causes the condition to evaluate to `False` after a certain number of iterations.\n",
    "\n",
    "Let's try to calculate the factorial of `100` using a `while` loop. The factorial of a number `n` is the product (multiplication) of all the numbers from `1` to `n`, i.e., `1*2*3*...*(n-2)*(n-1)*n`."
   ]
  },
  {
   "cell_type": "code",
   "execution_count": 25,
   "id": "1a781933",
   "metadata": {},
   "outputs": [
    {
     "name": "stdout",
     "output_type": "stream",
     "text": [
      "The factorial of 100 is 93326215443944152681699238856266700490715968264381621468592963895217599993229915608941463976156518286253697920827223758251185210916864000000000000000000000000.\n"
     ]
    }
   ],
   "source": [
    "result = 1\n",
    "i = 1\n",
    "\n",
    "while i <= 100:\n",
    "    result = result * i\n",
    "    i = i + 1\n",
    "\n",
    "print('The factorial of 100 is {}.' .format(result))"
   ]
  },
  {
   "cell_type": "markdown",
   "id": "4f697c3c",
   "metadata": {},
   "source": [
    "Here's how the above code works:\n",
    "\n",
    "* We initialize two variables, `result` and, `i`. `result` will contain the final outcome. And `i` is used to keep track of the next number to be multiplied with `result`. Both are initialized to 1 (can you explain why?)\n",
    "\n",
    "* The condition `i <= 100` holds true (since `i` is initially `1`), so the `while` block is executed.\n",
    "\n",
    "* The `result` is updated to `result * i`, `i` is increased by `1` and it now has the value `2`.\n",
    "\n",
    "* At this point, the condition `i <= 100` is evaluated again. Since it continues to hold true, `result` is again updated to `result * i`, and `i` is increased to `3`.\n",
    "\n",
    "* This process is repeated till the condition becomes false, which happens when `i` holds the value `101`. Once the condition evaluates to `False`, the execution of the loop ends, and the `print` statement below it is executed. \n",
    "\n",
    "Can you see why `result` contains the value of the factorial of 100 at the end? If not, try adding `print` statements inside the `while` block to print `result` and `i` in each iteration.\n",
    "\n",
    "\n",
    "> Iteration is a powerful technique because it gives computers a massive advantage over human beings in performing thousands or even millions of repetitive operations really fast. With just 4-5 lines of code, we were able to multiply 100 numbers almost instantly. The same code can be used to multiply a thousand numbers (just change the condition to `i <= 1000`) in a few seconds.\n",
    "\n",
    "You can check how long a cell takes to execute by adding the *magic* command `%%time` at the top of a cell. Try checking how long it takes to compute the factorial of `100`, `1000`, `10000`, `100000`, etc. "
   ]
  },
  {
   "cell_type": "code",
   "execution_count": 26,
   "id": "b8a7f975",
   "metadata": {},
   "outputs": [
    {
     "name": "stdout",
     "output_type": "stream",
     "text": [
      "402387260077093773543702433923003985719374864210714632543799910429938512398629020592044208486969404800479988610197196058631666872994808558901323829669944590997424504087073759918823627727188732519779505950995276120874975462497043601418278094646496291056393887437886487337119181045825783647849977012476632889835955735432513185323958463075557409114262417474349347553428646576611667797396668820291207379143853719588249808126867838374559731746136085379534524221586593201928090878297308431392844403281231558611036976801357304216168747609675871348312025478589320767169132448426236131412508780208000261683151027341827977704784635868170164365024153691398281264810213092761244896359928705114964975419909342221566832572080821333186116811553615836546984046708975602900950537616475847728421889679646244945160765353408198901385442487984959953319101723355556602139450399736280750137837615307127761926849034352625200015888535147331611702103968175921510907788019393178114194545257223865541461062892187960223838971476088506276862967146674697562911234082439208160153780889893964518263243671616762179168909779911903754031274622289988005195444414282012187361745992642956581746628302955570299024324153181617210465832036786906117260158783520751516284225540265170483304226143974286933061690897968482590125458327168226458066526769958652682272807075781391858178889652208164348344825993266043367660176999612831860788386150279465955131156552036093988180612138558600301435694527224206344631797460594682573103790084024432438465657245014402821885252470935190620929023136493273497565513958720559654228749774011413346962715422845862377387538230483865688976461927383814900140767310446640259899490222221765904339901886018566526485061799702356193897017860040811889729918311021171229845901641921068884387121855646124960798722908519296819372388642614839657382291123125024186649353143970137428531926649875337218940694281434118520158014123344828015051399694290153483077644569099073152433278288269864602789864321139083506217095002597389863554277196742822248757586765752344220207573630569498825087968928162753848863396909959826280956121450994871701244516461260379029309120889086942028510640182154399457156805941872748998094254742173582401063677404595741785160829230135358081840096996372524230560855903700624271243416909004153690105933983835777939410970027753472000000000000000000000000000000000000000000000000000000000000000000000000000000000000000000000000000000000000000000000000000000000000000000000000000000000000000000000000000000000000000000000000000000000000000000000000000000000000000000000000000000000\n",
      "Wall time: 2.64 ms\n",
      "Compiler : 132 ms\n"
     ]
    }
   ],
   "source": [
    "%%time\n",
    "\n",
    "i = 1\n",
    "result = 1\n",
    "\n",
    "while i <= 1000:\n",
    "    result *= i\n",
    "    i += 1\n",
    "    \n",
    "print(result)\n",
    "    "
   ]
  },
  {
   "cell_type": "code",
   "execution_count": 27,
   "id": "00d7beea",
   "metadata": {},
   "outputs": [
    {
     "name": "stdout",
     "output_type": "stream",
     "text": [
      "*\n",
      "**\n",
      "***\n",
      "****\n",
      "*****\n",
      "******\n",
      "*******\n",
      "********\n",
      "*********\n",
      "**********\n",
      "***********\n",
      "**********\n",
      "*********\n",
      "********\n",
      "*******\n",
      "******\n",
      "*****\n",
      "****\n",
      "***\n",
      "**\n",
      "*\n"
     ]
    }
   ],
   "source": [
    "line = '*'\n",
    "max_length = 10\n",
    "\n",
    "while len(line) <= max_length:\n",
    "    print(line)\n",
    "    line += \"*\"\n",
    "    \n",
    "while len(line) > 0:\n",
    "    print(line)\n",
    "    line = line[:-1]"
   ]
  },
  {
   "cell_type": "code",
   "execution_count": null,
   "id": "0ac7f0fc",
   "metadata": {},
   "outputs": [],
   "source": []
  }
 ],
 "metadata": {
  "kernelspec": {
   "display_name": "Python 3 (ipykernel)",
   "language": "python",
   "name": "python3"
  },
  "language_info": {
   "codemirror_mode": {
    "name": "ipython",
    "version": 3
   },
   "file_extension": ".py",
   "mimetype": "text/x-python",
   "name": "python",
   "nbconvert_exporter": "python",
   "pygments_lexer": "ipython3",
   "version": "3.10.0"
  }
 },
 "nbformat": 4,
 "nbformat_minor": 5
}
